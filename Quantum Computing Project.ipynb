{
 "cells": [
  {
   "cell_type": "code",
   "execution_count": 1,
   "id": "f704c04c-2b15-4d2f-a32b-58c6fffb785c",
   "metadata": {},
   "outputs": [],
   "source": [
    "import os\n",
    "import sys\n",
    "import pandas as pd\n",
    "import numpy as np\n",
    "import matplotlib.pyplot as plt\n",
    "from pathlib import Path"
   ]
  },
  {
   "cell_type": "code",
   "execution_count": 2,
   "id": "bdc217c7-6158-4664-8a86-4f5462088c4b",
   "metadata": {},
   "outputs": [],
   "source": [
    "RANDOM_STATE = 42\n",
    "np.random.seed(RANDOM_STATE)"
   ]
  },
  {
   "cell_type": "code",
   "execution_count": 3,
   "id": "b3730954-865e-4c28-8a35-439349847174",
   "metadata": {},
   "outputs": [],
   "source": [
    "DATA_PATH = \"heart.csv\""
   ]
  },
  {
   "cell_type": "code",
   "execution_count": 4,
   "id": "eb436c13-2f89-402b-b210-74a54f345b0a",
   "metadata": {},
   "outputs": [],
   "source": [
    "if not Path(DATA_PATH).is_file():\n",
    "    raise FileNotFoundError(f\"Dataset not found at {DATA_PATH}. Place the CSV in the notebook folder or update DATA_PATH.\")\n"
   ]
  },
  {
   "cell_type": "code",
   "execution_count": 5,
   "id": "e8a13384-8036-4d16-820c-9bb9d744012e",
   "metadata": {},
   "outputs": [],
   "source": [
    "df = pd.read_csv(DATA_PATH)\n",
    "df['HeartDisease'] = df['HeartDisease'].replace({0: 0, 1: 1})"
   ]
  },
  {
   "cell_type": "code",
   "execution_count": 6,
   "id": "0b0ac061-610b-403f-8298-83df4d074fa5",
   "metadata": {},
   "outputs": [
    {
     "name": "stdout",
     "output_type": "stream",
     "text": [
      "=== Quick preview ===\n"
     ]
    },
    {
     "data": {
      "text/html": [
       "<div>\n",
       "<style scoped>\n",
       "    .dataframe tbody tr th:only-of-type {\n",
       "        vertical-align: middle;\n",
       "    }\n",
       "\n",
       "    .dataframe tbody tr th {\n",
       "        vertical-align: top;\n",
       "    }\n",
       "\n",
       "    .dataframe thead th {\n",
       "        text-align: right;\n",
       "    }\n",
       "</style>\n",
       "<table border=\"1\" class=\"dataframe\">\n",
       "  <thead>\n",
       "    <tr style=\"text-align: right;\">\n",
       "      <th></th>\n",
       "      <th>Age</th>\n",
       "      <th>Sex</th>\n",
       "      <th>ChestPainType</th>\n",
       "      <th>RestingBP</th>\n",
       "      <th>Cholesterol</th>\n",
       "      <th>FastingBS</th>\n",
       "      <th>RestingECG</th>\n",
       "      <th>MaxHR</th>\n",
       "      <th>ExerciseAngina</th>\n",
       "      <th>Oldpeak</th>\n",
       "      <th>ST_Slope</th>\n",
       "      <th>HeartDisease</th>\n",
       "    </tr>\n",
       "  </thead>\n",
       "  <tbody>\n",
       "    <tr>\n",
       "      <th>0</th>\n",
       "      <td>40</td>\n",
       "      <td>M</td>\n",
       "      <td>ATA</td>\n",
       "      <td>140</td>\n",
       "      <td>289</td>\n",
       "      <td>0</td>\n",
       "      <td>Normal</td>\n",
       "      <td>172</td>\n",
       "      <td>N</td>\n",
       "      <td>0.0</td>\n",
       "      <td>Up</td>\n",
       "      <td>0</td>\n",
       "    </tr>\n",
       "    <tr>\n",
       "      <th>1</th>\n",
       "      <td>49</td>\n",
       "      <td>F</td>\n",
       "      <td>NAP</td>\n",
       "      <td>160</td>\n",
       "      <td>180</td>\n",
       "      <td>0</td>\n",
       "      <td>Normal</td>\n",
       "      <td>156</td>\n",
       "      <td>N</td>\n",
       "      <td>1.0</td>\n",
       "      <td>Flat</td>\n",
       "      <td>1</td>\n",
       "    </tr>\n",
       "    <tr>\n",
       "      <th>2</th>\n",
       "      <td>37</td>\n",
       "      <td>M</td>\n",
       "      <td>ATA</td>\n",
       "      <td>130</td>\n",
       "      <td>283</td>\n",
       "      <td>0</td>\n",
       "      <td>ST</td>\n",
       "      <td>98</td>\n",
       "      <td>N</td>\n",
       "      <td>0.0</td>\n",
       "      <td>Up</td>\n",
       "      <td>0</td>\n",
       "    </tr>\n",
       "    <tr>\n",
       "      <th>3</th>\n",
       "      <td>48</td>\n",
       "      <td>F</td>\n",
       "      <td>ASY</td>\n",
       "      <td>138</td>\n",
       "      <td>214</td>\n",
       "      <td>0</td>\n",
       "      <td>Normal</td>\n",
       "      <td>108</td>\n",
       "      <td>Y</td>\n",
       "      <td>1.5</td>\n",
       "      <td>Flat</td>\n",
       "      <td>1</td>\n",
       "    </tr>\n",
       "    <tr>\n",
       "      <th>4</th>\n",
       "      <td>54</td>\n",
       "      <td>M</td>\n",
       "      <td>NAP</td>\n",
       "      <td>150</td>\n",
       "      <td>195</td>\n",
       "      <td>0</td>\n",
       "      <td>Normal</td>\n",
       "      <td>122</td>\n",
       "      <td>N</td>\n",
       "      <td>0.0</td>\n",
       "      <td>Up</td>\n",
       "      <td>0</td>\n",
       "    </tr>\n",
       "    <tr>\n",
       "      <th>5</th>\n",
       "      <td>39</td>\n",
       "      <td>M</td>\n",
       "      <td>NAP</td>\n",
       "      <td>120</td>\n",
       "      <td>339</td>\n",
       "      <td>0</td>\n",
       "      <td>Normal</td>\n",
       "      <td>170</td>\n",
       "      <td>N</td>\n",
       "      <td>0.0</td>\n",
       "      <td>Up</td>\n",
       "      <td>0</td>\n",
       "    </tr>\n",
       "    <tr>\n",
       "      <th>6</th>\n",
       "      <td>45</td>\n",
       "      <td>F</td>\n",
       "      <td>ATA</td>\n",
       "      <td>130</td>\n",
       "      <td>237</td>\n",
       "      <td>0</td>\n",
       "      <td>Normal</td>\n",
       "      <td>170</td>\n",
       "      <td>N</td>\n",
       "      <td>0.0</td>\n",
       "      <td>Up</td>\n",
       "      <td>0</td>\n",
       "    </tr>\n",
       "    <tr>\n",
       "      <th>7</th>\n",
       "      <td>54</td>\n",
       "      <td>M</td>\n",
       "      <td>ATA</td>\n",
       "      <td>110</td>\n",
       "      <td>208</td>\n",
       "      <td>0</td>\n",
       "      <td>Normal</td>\n",
       "      <td>142</td>\n",
       "      <td>N</td>\n",
       "      <td>0.0</td>\n",
       "      <td>Up</td>\n",
       "      <td>0</td>\n",
       "    </tr>\n",
       "  </tbody>\n",
       "</table>\n",
       "</div>"
      ],
      "text/plain": [
       "   Age Sex ChestPainType  RestingBP  Cholesterol  FastingBS RestingECG  MaxHR  \\\n",
       "0   40   M           ATA        140          289          0     Normal    172   \n",
       "1   49   F           NAP        160          180          0     Normal    156   \n",
       "2   37   M           ATA        130          283          0         ST     98   \n",
       "3   48   F           ASY        138          214          0     Normal    108   \n",
       "4   54   M           NAP        150          195          0     Normal    122   \n",
       "5   39   M           NAP        120          339          0     Normal    170   \n",
       "6   45   F           ATA        130          237          0     Normal    170   \n",
       "7   54   M           ATA        110          208          0     Normal    142   \n",
       "\n",
       "  ExerciseAngina  Oldpeak ST_Slope  HeartDisease  \n",
       "0              N      0.0       Up             0  \n",
       "1              N      1.0     Flat             1  \n",
       "2              N      0.0       Up             0  \n",
       "3              Y      1.5     Flat             1  \n",
       "4              N      0.0       Up             0  \n",
       "5              N      0.0       Up             0  \n",
       "6              N      0.0       Up             0  \n",
       "7              N      0.0       Up             0  "
      ]
     },
     "metadata": {},
     "output_type": "display_data"
    }
   ],
   "source": [
    "print(\"=== Quick preview ===\")\n",
    "display(df.head(8))"
   ]
  },
  {
   "cell_type": "code",
   "execution_count": 7,
   "id": "c97cc17b-7025-449f-8608-a251a2a8a038",
   "metadata": {},
   "outputs": [
    {
     "name": "stdout",
     "output_type": "stream",
     "text": [
      "\n",
      "=== Shape ===\n",
      "(918, 12)\n"
     ]
    }
   ],
   "source": [
    "print(\"\\n=== Shape ===\")\n",
    "print(df.shape)"
   ]
  },
  {
   "cell_type": "code",
   "execution_count": 8,
   "id": "6f9d77e5-2db6-45ca-bc9b-0ced40e66d9e",
   "metadata": {},
   "outputs": [
    {
     "name": "stdout",
     "output_type": "stream",
     "text": [
      "\n",
      "=== Data types ===\n",
      "Age                 int64\n",
      "Sex                object\n",
      "ChestPainType      object\n",
      "RestingBP           int64\n",
      "Cholesterol         int64\n",
      "FastingBS           int64\n",
      "RestingECG         object\n",
      "MaxHR               int64\n",
      "ExerciseAngina     object\n",
      "Oldpeak           float64\n",
      "ST_Slope           object\n",
      "HeartDisease        int64\n",
      "dtype: object\n"
     ]
    }
   ],
   "source": [
    "print(\"\\n=== Data types ===\")\n",
    "print(df.dtypes)"
   ]
  },
  {
   "cell_type": "code",
   "execution_count": 9,
   "id": "7849e045-0d77-49b3-a740-0edb8e494ac4",
   "metadata": {},
   "outputs": [
    {
     "name": "stdout",
     "output_type": "stream",
     "text": [
      "\n",
      "=== Missing values (per column) ===\n",
      "Age               0\n",
      "Sex               0\n",
      "ChestPainType     0\n",
      "RestingBP         0\n",
      "Cholesterol       0\n",
      "FastingBS         0\n",
      "RestingECG        0\n",
      "MaxHR             0\n",
      "ExerciseAngina    0\n",
      "Oldpeak           0\n",
      "ST_Slope          0\n",
      "HeartDisease      0\n",
      "dtype: int64\n"
     ]
    }
   ],
   "source": [
    "print(\"\\n=== Missing values (per column) ===\")\n",
    "print(df.isnull().sum())"
   ]
  },
  {
   "cell_type": "code",
   "execution_count": 10,
   "id": "3c4b9782-5183-41f1-a5bf-b6b3677a06fc",
   "metadata": {},
   "outputs": [
    {
     "name": "stdout",
     "output_type": "stream",
     "text": [
      "\n",
      "=== Duplicate rows ===\n",
      "duplicates: 0\n"
     ]
    }
   ],
   "source": [
    "print(\"\\n=== Duplicate rows ===\")\n",
    "print(\"duplicates:\", df.duplicated().sum())"
   ]
  },
  {
   "cell_type": "code",
   "execution_count": 11,
   "id": "fb7c3a88-02e8-4d44-bc29-6937e7e1fd96",
   "metadata": {},
   "outputs": [
    {
     "name": "stdout",
     "output_type": "stream",
     "text": [
      "\n",
      "=== Target distribution ===\n",
      "HeartDisease\n",
      "1    508\n",
      "0    410\n",
      "Name: count, dtype: int64\n",
      "\n",
      "Target distribution (proportions):\n",
      "HeartDisease\n",
      "1    0.553377\n",
      "0    0.446623\n",
      "Name: proportion, dtype: float64\n"
     ]
    }
   ],
   "source": [
    "TARGET = \"HeartDisease\"\n",
    "if TARGET in df.columns:\n",
    "    print(\"\\n=== Target distribution ===\")\n",
    "    print(df[TARGET].value_counts(dropna=False))\n",
    "    print(\"\\nTarget distribution (proportions):\")\n",
    "    print(df[TARGET].value_counts(normalize=True))\n",
    "else:\n",
    "    print(f\"\\nWARNING: Target column '{TARGET}' not found. Please set TARGET variable correctly.\")"
   ]
  },
  {
   "cell_type": "code",
   "execution_count": 12,
   "id": "ff51f127-4e9f-4b43-8afe-02526c325dff",
   "metadata": {},
   "outputs": [
    {
     "name": "stdout",
     "output_type": "stream",
     "text": [
      "\n",
      "=== Descriptive statistics (numeric cols) ===\n"
     ]
    },
    {
     "data": {
      "text/html": [
       "<div>\n",
       "<style scoped>\n",
       "    .dataframe tbody tr th:only-of-type {\n",
       "        vertical-align: middle;\n",
       "    }\n",
       "\n",
       "    .dataframe tbody tr th {\n",
       "        vertical-align: top;\n",
       "    }\n",
       "\n",
       "    .dataframe thead th {\n",
       "        text-align: right;\n",
       "    }\n",
       "</style>\n",
       "<table border=\"1\" class=\"dataframe\">\n",
       "  <thead>\n",
       "    <tr style=\"text-align: right;\">\n",
       "      <th></th>\n",
       "      <th>count</th>\n",
       "      <th>mean</th>\n",
       "      <th>std</th>\n",
       "      <th>min</th>\n",
       "      <th>25%</th>\n",
       "      <th>50%</th>\n",
       "      <th>75%</th>\n",
       "      <th>max</th>\n",
       "    </tr>\n",
       "  </thead>\n",
       "  <tbody>\n",
       "    <tr>\n",
       "      <th>Age</th>\n",
       "      <td>918.0</td>\n",
       "      <td>53.510893</td>\n",
       "      <td>9.432617</td>\n",
       "      <td>28.0</td>\n",
       "      <td>47.00</td>\n",
       "      <td>54.0</td>\n",
       "      <td>60.0</td>\n",
       "      <td>77.0</td>\n",
       "    </tr>\n",
       "    <tr>\n",
       "      <th>RestingBP</th>\n",
       "      <td>918.0</td>\n",
       "      <td>132.396514</td>\n",
       "      <td>18.514154</td>\n",
       "      <td>0.0</td>\n",
       "      <td>120.00</td>\n",
       "      <td>130.0</td>\n",
       "      <td>140.0</td>\n",
       "      <td>200.0</td>\n",
       "    </tr>\n",
       "    <tr>\n",
       "      <th>Cholesterol</th>\n",
       "      <td>918.0</td>\n",
       "      <td>198.799564</td>\n",
       "      <td>109.384145</td>\n",
       "      <td>0.0</td>\n",
       "      <td>173.25</td>\n",
       "      <td>223.0</td>\n",
       "      <td>267.0</td>\n",
       "      <td>603.0</td>\n",
       "    </tr>\n",
       "    <tr>\n",
       "      <th>FastingBS</th>\n",
       "      <td>918.0</td>\n",
       "      <td>0.233115</td>\n",
       "      <td>0.423046</td>\n",
       "      <td>0.0</td>\n",
       "      <td>0.00</td>\n",
       "      <td>0.0</td>\n",
       "      <td>0.0</td>\n",
       "      <td>1.0</td>\n",
       "    </tr>\n",
       "    <tr>\n",
       "      <th>MaxHR</th>\n",
       "      <td>918.0</td>\n",
       "      <td>136.809368</td>\n",
       "      <td>25.460334</td>\n",
       "      <td>60.0</td>\n",
       "      <td>120.00</td>\n",
       "      <td>138.0</td>\n",
       "      <td>156.0</td>\n",
       "      <td>202.0</td>\n",
       "    </tr>\n",
       "    <tr>\n",
       "      <th>Oldpeak</th>\n",
       "      <td>918.0</td>\n",
       "      <td>0.887364</td>\n",
       "      <td>1.066570</td>\n",
       "      <td>-2.6</td>\n",
       "      <td>0.00</td>\n",
       "      <td>0.6</td>\n",
       "      <td>1.5</td>\n",
       "      <td>6.2</td>\n",
       "    </tr>\n",
       "    <tr>\n",
       "      <th>HeartDisease</th>\n",
       "      <td>918.0</td>\n",
       "      <td>0.553377</td>\n",
       "      <td>0.497414</td>\n",
       "      <td>0.0</td>\n",
       "      <td>0.00</td>\n",
       "      <td>1.0</td>\n",
       "      <td>1.0</td>\n",
       "      <td>1.0</td>\n",
       "    </tr>\n",
       "  </tbody>\n",
       "</table>\n",
       "</div>"
      ],
      "text/plain": [
       "              count        mean         std   min     25%    50%    75%    max\n",
       "Age           918.0   53.510893    9.432617  28.0   47.00   54.0   60.0   77.0\n",
       "RestingBP     918.0  132.396514   18.514154   0.0  120.00  130.0  140.0  200.0\n",
       "Cholesterol   918.0  198.799564  109.384145   0.0  173.25  223.0  267.0  603.0\n",
       "FastingBS     918.0    0.233115    0.423046   0.0    0.00    0.0    0.0    1.0\n",
       "MaxHR         918.0  136.809368   25.460334  60.0  120.00  138.0  156.0  202.0\n",
       "Oldpeak       918.0    0.887364    1.066570  -2.6    0.00    0.6    1.5    6.2\n",
       "HeartDisease  918.0    0.553377    0.497414   0.0    0.00    1.0    1.0    1.0"
      ]
     },
     "metadata": {},
     "output_type": "display_data"
    }
   ],
   "source": [
    "print(\"\\n=== Descriptive statistics (numeric cols) ===\")\n",
    "display(df.describe().T)"
   ]
  },
  {
   "cell_type": "code",
   "execution_count": 13,
   "id": "9902cd7a-6599-4a45-aa7c-259ec12d3432",
   "metadata": {},
   "outputs": [
    {
     "data": {
      "image/png": "[encoded data removed]",
      "text/plain": [
       "<Figure size 800x500 with 1 Axes>"
      ]
     },
     "metadata": {},
     "output_type": "display_data"
    }
   ],
   "source": [
    "plt.figure(figsize=(8,5))\n",
    "df[TARGET].value_counts().plot(kind='bar', color=['skyblue', 'salmon'])\n",
    "plt.title(\"Target Class Distribution\")\n",
    "plt.xlabel(\"Heart Disease\")\n",
    "plt.ylabel(\"Count\")\n",
    "plt.xticks(rotation=0)\n",
    "plt.tight_layout()\n",
    "plt.show()"
   ]
  },
  {
   "cell_type": "markdown",
   "id": "91c7ddc3-bac1-4a5d-a6ce-cae6b2b719d4",
   "metadata": {},
   "source": [
    "# Data Preprocessing"
   ]
  },
  {
   "cell_type": "code",
   "execution_count": 15,
   "id": "67f123f4-aed4-4cd9-bf4c-6f924aafedc3",
   "metadata": {},
   "outputs": [
    {
     "name": "stdout",
     "output_type": "stream",
     "text": [
      "No duplicates to drop.\n"
     ]
    }
   ],
   "source": [
    "df_clean = df.copy()\n",
    "\n",
    "if df_clean.duplicated().sum() > 0:\n",
    "    print(f\"Dropping {df_clean.duplicated().sum()} duplicate rows.\")\n",
    "    df_clean = df_clean.drop_duplicates().reset_index(drop=True)\n",
    "else:\n",
    "    print(\"No duplicates to drop.\")"
   ]
  },
  {
   "cell_type": "code",
   "execution_count": 16,
   "id": "2238d6fb-ac22-4a0d-a96a-653d662ad849",
   "metadata": {},
   "outputs": [],
   "source": [
    "from sklearn.preprocessing import LabelEncoder\n",
    "\n",
    "le = LabelEncoder()\n",
    "\n",
    "cat_cols = ['Sex', 'ChestPainType', 'RestingECG', 'ExerciseAngina', 'ST_Slope']\n",
    "for col in cat_cols:\n",
    "    if col in df_clean.columns:\n",
    "        df_clean[col] = le.fit_transform(df_clean[col])\n",
    "\n",
    "num_cols = df_clean.select_dtypes(include=[np.number]).columns.tolist()\n",
    "for c in num_cols:\n",
    "    if df_clean[c].isnull().any():\n",
    "        med = df_clean[c].median()\n",
    "        df_clean[c].fillna(med, inplace=True)\n",
    "        print(f\"Imputed numeric column {c} with median={med}\")"
   ]
  },
  {
   "cell_type": "code",
   "execution_count": 17,
   "id": "90e2944e-e691-4ecf-96de-df0aa3b95431",
   "metadata": {},
   "outputs": [
    {
     "name": "stdout",
     "output_type": "stream",
     "text": [
      "Data preprocessing complete.\n",
      "\n",
      "=== Final dataset info ===\n",
      "(918, 12)\n",
      "0 total missing values\n"
     ]
    }
   ],
   "source": [
    "print(\"Data preprocessing complete.\")\n",
    "print(\"\\n=== Final dataset info ===\")\n",
    "print(df_clean.shape)\n",
    "print(df_clean.isnull().sum().sum(), \"total missing values\")"
   ]
  },
  {
   "cell_type": "markdown",
   "id": "69baed2d-0d9d-4e9f-b596-83ad6909f68b",
   "metadata": {},
   "source": [
    "# Classical SVM Models"
   ]
  },
  {
   "cell_type": "code",
   "execution_count": 18,
   "id": "1559a2dd-1bee-4c7b-a862-9129ef5ee4f6",
   "metadata": {},
   "outputs": [],
   "source": [
    "from sklearn.model_selection import train_test_split\n",
    "from sklearn.preprocessing import StandardScaler\n",
    "from sklearn.svm import SVC\n",
    "from sklearn.metrics import accuracy_score, classification_report, confusion_matrix"
   ]
  },
  {
   "cell_type": "code",
   "execution_count": 19,
   "id": "ac65a8ef-916b-44af-b7bd-833cc8fd2abe",
   "metadata": {},
   "outputs": [],
   "source": [
    "# Prepare features and target\n",
    "\n",
    "X = df_clean.drop('HeartDisease', axis=1)\n",
    "y = df_clean['HeartDisease']"
   ]
  },
  {
   "cell_type": "code",
   "execution_count": 20,
   "id": "39f4e3c8-2776-4dce-9791-f237b83a78ac",
   "metadata": {},
   "outputs": [],
   "source": [
    "X_train, X_test, y_train, y_test = train_test_split(X, y, test_size=0.2, random_state=42)"
   ]
  },
  {
   "cell_type": "code",
   "execution_count": 21,
   "id": "3b44e96c-1191-4078-bbbf-68fdddf77476",
   "metadata": {},
   "outputs": [],
   "source": [
    "scaler = StandardScaler()\n",
    "X_train_scaled = scaler.fit_transform(X_train)\n",
    "X_test_scaled = scaler.transform(X_test)"
   ]
  },
  {
   "cell_type": "markdown",
   "id": "0a47eb2c-6799-4016-9aa1-6d944072306b",
   "metadata": {},
   "source": [
    "## Linear Kernel"
   ]
  },
  {
   "cell_type": "code",
   "execution_count": 22,
   "id": "5032e642-440d-4d91-902a-ce3432439bfe",
   "metadata": {},
   "outputs": [
    {
     "name": "stdout",
     "output_type": "stream",
     "text": [
      "Linear SVM Accuracy: 0.8370\n",
      "              precision    recall  f1-score   support\n",
      "\n",
      "           0       0.78      0.86      0.81        77\n",
      "           1       0.89      0.82      0.85       107\n",
      "\n",
      "    accuracy                           0.84       184\n",
      "   macro avg       0.83      0.84      0.83       184\n",
      "weighted avg       0.84      0.84      0.84       184\n",
      "\n"
     ]
    }
   ],
   "source": [
    "linear_svm = SVC(kernel='linear', random_state=42)\n",
    "linear_svm.fit(X_train_scaled, y_train)\n",
    "y_pred_linear = linear_svm.predict(X_test_scaled)\n",
    "acc_linear = accuracy_score(y_test, y_pred_linear)\n",
    "print(f\"Linear SVM Accuracy: {acc_linear:.4f}\")\n",
    "print(classification_report(y_test, y_pred_linear))"
   ]
  },
  {
   "cell_type": "markdown",
   "id": "6658690d-46ce-4c78-a3bf-dc25be46f4a8",
   "metadata": {},
   "source": [
    "## RBF Kernel"
   ]
  },
  {
   "cell_type": "code",
   "execution_count": 23,
   "id": "85930120-64c2-4eb9-bf3f-661e48ed0d0c",
   "metadata": {},
   "outputs": [
    {
     "name": "stdout",
     "output_type": "stream",
     "text": [
      "RBF SVM Accuracy: 0.8641\n",
      "              precision    recall  f1-score   support\n",
      "\n",
      "           0       0.82      0.86      0.84        77\n",
      "           1       0.89      0.87      0.88       107\n",
      "\n",
      "    accuracy                           0.86       184\n",
      "   macro avg       0.86      0.86      0.86       184\n",
      "weighted avg       0.87      0.86      0.86       184\n",
      "\n"
     ]
    }
   ],
   "source": [
    "rbf_svm = SVC(kernel='rbf', random_state=42)\n",
    "rbf_svm.fit(X_train_scaled, y_train)\n",
    "y_pred_rbf = rbf_svm.predict(X_test_scaled)\n",
    "acc_rbf = accuracy_score(y_test, y_pred_rbf)\n",
    "print(f\"RBF SVM Accuracy: {acc_rbf:.4f}\")\n",
    "print(classification_report(y_test, y_pred_rbf))"
   ]
  },
  {
   "cell_type": "markdown",
   "id": "94cd4bdf-6367-4794-90dd-66d79ecd8fef",
   "metadata": {},
   "source": [
    "## Polynomial Kernel"
   ]
  },
  {
   "cell_type": "code",
   "execution_count": 25,
   "id": "3185bbad-3fd2-49bf-9f16-76ec0f12a5be",
   "metadata": {},
   "outputs": [
    {
     "name": "stdout",
     "output_type": "stream",
     "text": [
      "Polynomial SVM Accuracy: 0.8315\n",
      "              precision    recall  f1-score   support\n",
      "\n",
      "           0       0.75      0.90      0.82        77\n",
      "           1       0.91      0.79      0.84       107\n",
      "\n",
      "    accuracy                           0.83       184\n",
      "   macro avg       0.83      0.84      0.83       184\n",
      "weighted avg       0.84      0.83      0.83       184\n",
      "\n"
     ]
    }
   ],
   "source": [
    "poly_svm = SVC(kernel='poly', degree=3, random_state=42)\n",
    "poly_svm.fit(X_train_scaled, y_train)\n",
    "y_pred_poly = poly_svm.predict(X_test_scaled)\n",
    "acc_poly = accuracy_score(y_test, y_pred_poly)\n",
    "print(f\"Polynomial SVM Accuracy: {acc_poly:.4f}\")\n",
    "print(classification_report(y_test, y_pred_poly))"
   ]
  },
  {
   "cell_type": "markdown",
   "id": "61f5b641-e100-484b-a523-64e6305bbd92",
   "metadata": {},
   "source": [
    "# Quantum SVM Models"
   ]
  },
  {
   "cell_type": "code",
   "execution_count": 27,
   "id": "e1c2b1ff-33ce-46f6-aa22-99040a25b60b",
   "metadata": {},
   "outputs": [
    {
     "name": "stdout",
     "output_type": "stream",
     "text": [
      "Data prepared for quantum models\n"
     ]
    }
   ],
   "source": [
    "from qiskit.circuit.library import ZZFeatureMap\n",
    "from qiskit_machine_learning.kernels import FidelityQuantumKernel\n",
    "from qiskit_machine_learning.algorithms import QSVC\n",
    "from sklearn.preprocessing import MinMaxScaler\n",
    "from qiskit_aer import AerSimulator\n",
    "from qiskit.primitives import Sampler\n",
    "\n",
    "X_scaled = MinMaxScaler().fit_transform(X)\n",
    "X_train_q, X_test_q, y_train_q, y_test_q = train_test_split(X_scaled, y, test_size=0.2, random_state=42)\n",
    "\n",
    "print(\"Data prepared for quantum models\")"
   ]
  },
  {
   "cell_type": "markdown",
   "id": "897dea51",
   "metadata": {},
   "source": [
    "## Basis Encoding\n"
   ]
  },
  {
   "cell_type": "code",
   "execution_count": 28,
   "id": "0e1faa88",
   "metadata": {},
   "outputs": [
    {
     "name": "stdout",
     "output_type": "stream",
     "text": [
      "Starting Basis Encoding...\n",
      "Training QSVC with Basis Encoding...\n",
      "Evaluating Basis Encoding...\n",
      "Basis Encoding Accuracy: 0.7935\n"
     ]
    }
   ],
   "source": [
    "print(\"Starting Basis Encoding...\")\n",
    "X_train_q_basis = X_train_q[:, :3]\n",
    "X_test_q_basis = X_test_q[:, :3]\n",
    "\n",
    "feature_map_basis = ZZFeatureMap(feature_dimension=3, reps=1)\n",
    "quantum_kernel_basis = FidelityQuantumKernel(feature_map=feature_map_basis)\n",
    "\n",
    "print(\"Training QSVC with Basis Encoding...\")\n",
    "qsvc_basis = QSVC(quantum_kernel=quantum_kernel_basis)\n",
    "qsvc_basis.fit(X_train_q_basis, y_train_q)\n",
    "\n",
    "print(\"Evaluating Basis Encoding...\")\n",
    "acc_basis = qsvc_basis.score(X_test_q_basis, y_test_q)\n",
    "print(f\"Basis Encoding Accuracy: {acc_basis:.4f}\")\n"
   ]
  },
  {
   "cell_type": "markdown",
   "id": "a2ece36d",
   "metadata": {},
   "source": [
    "## Amplitude Encoding\n"
   ]
  },
  {
   "cell_type": "code",
   "execution_count": 30,
   "id": "3a986c29",
   "metadata": {},
   "outputs": [
    {
     "name": "stdout",
     "output_type": "stream",
     "text": [
      "Starting Amplitude Encoding...\n",
      "Training QSVC with Amplitude Encoding...\n",
      "Evaluating Amplitude Encoding...\n",
      "Amplitude Encoding Accuracy: 0.6576\n"
     ]
    }
   ],
   "source": [
    "print(\"Starting Amplitude Encoding...\")\n",
    "\n",
    "X_train_q_amp = X_train_q[:, :2]\n",
    "X_test_q_amp = X_test_q[:, :2]\n",
    "\n",
    "feature_map_amp = ZZFeatureMap(feature_dimension=2, reps=1)\n",
    "quantum_kernel_amp = FidelityQuantumKernel(feature_map=feature_map_amp)\n",
    "\n",
    "print(\"Training QSVC with Amplitude Encoding...\")\n",
    "qsvc_amp = QSVC(quantum_kernel=quantum_kernel_amp)\n",
    "qsvc_amp.fit(X_train_q_amp, y_train_q)\n",
    "\n",
    "print(\"Evaluating Amplitude Encoding...\")\n",
    "acc_amp = qsvc_amp.score(X_test_q_amp, y_test_q)\n",
    "\n",
    "print(f\"Amplitude Encoding Accuracy: {acc_amp:.4f}\")"
   ]
  },
  {
   "cell_type": "markdown",
   "id": "8b055a63",
   "metadata": {},
   "source": [
    "## Angle Encoding"
   ]
  },
  {
   "cell_type": "code",
   "execution_count": 31,
   "id": "21ef4d4e",
   "metadata": {},
   "outputs": [
    {
     "name": "stdout",
     "output_type": "stream",
     "text": [
      "Starting Angle Encoding...\n",
      "Training QSVC with Angle Encoding...\n",
      "Evaluating Angle Encoding...\n",
      "Angle Encoding Accuracy: 0.7935\n"
     ]
    }
   ],
   "source": [
    "print(\"Starting Angle Encoding...\")\n",
    "\n",
    "X_train_q_angle = X_train_q[:, :3]\n",
    "X_test_q_angle = X_test_q[:, :3]\n",
    "\n",
    "feature_map_angle = ZZFeatureMap(feature_dimension=3, reps=1)\n",
    "quantum_kernel_angle = FidelityQuantumKernel(feature_map=feature_map_angle)\n",
    "\n",
    "print(\"Training QSVC with Angle Encoding...\")\n",
    "qsvc_angle = QSVC(quantum_kernel=quantum_kernel_angle)\n",
    "qsvc_angle.fit(X_train_q_angle, y_train_q)\n",
    "\n",
    "print(\"Evaluating Angle Encoding...\")\n",
    "acc_angle = qsvc_angle.score(X_test_q_angle, y_test_q)\n",
    "\n",
    "print(f\"Angle Encoding Accuracy: {acc_angle:.4f}\")"
   ]
  },
  {
   "cell_type": "markdown",
   "id": "299922c2",
   "metadata": {},
   "source": [
    "# Results Comparison\n"
   ]
  },
  {
   "cell_type": "code",
   "execution_count": 33,
   "id": "3b836746",
   "metadata": {},
   "outputs": [
    {
     "name": "stdout",
     "output_type": "stream",
     "text": [
      "\n",
      "======================================================================\n",
      "ACCURACY COMPARISON\n",
      "======================================================================\n",
      "\n",
      "Classical SVM:\n",
      "  Linear          - 0.8370\n",
      "  RBF             - 0.8641\n",
      "  Polynomial      - 0.8315\n",
      "\n",
      "Quantum SVM:\n",
      "  Basis Encoding  - 0.7935\n",
      "  Amplitude Encoding - 0.6576\n",
      "  Angle Encoding  - 0.7935\n",
      "\n",
      "======================================================================\n",
      "Best Classical SVM: RBF - 0.8641\n",
      "Best Quantum SVM: Basis Encoding - 0.7935\n",
      "======================================================================\n"
     ]
    }
   ],
   "source": [
    "# Accuracy comparison\n",
    "results = {\n",
    "    'Classical SVM': {\n",
    "        'Linear': acc_linear,\n",
    "        'RBF': acc_rbf,\n",
    "        'Polynomial': acc_poly\n",
    "    },\n",
    "    'Quantum SVM': {\n",
    "        'Basis Encoding': acc_basis,\n",
    "        'Amplitude Encoding': acc_amp,\n",
    "        'Angle Encoding': acc_angle\n",
    "    }\n",
    "}\n",
    "\n",
    "print(\"\\n\" + \"=\" * 70)\n",
    "print(\"ACCURACY COMPARISON\")\n",
    "print(\"=\" * 70)\n",
    "print(\"\\nClassical SVM:\")\n",
    "for method, acc in results['Classical SVM'].items():\n",
    "    print(f\"  {method:15} - {acc:.4f}\")\n",
    "\n",
    "print(\"\\nQuantum SVM:\")\n",
    "for method, acc in results['Quantum SVM'].items():\n",
    "    print(f\"  {method:15} - {acc:.4f}\")\n",
    "\n",
    "print(\"\\n\" + \"=\" * 70)\n",
    "best_classical = max(results['Classical SVM'].items(), key=lambda x: x[1])\n",
    "best_quantum = max(results['Quantum SVM'].items(), key=lambda x: x[1])\n",
    "print(f\"Best Classical SVM: {best_classical[0]} - {best_classical[1]:.4f}\")\n",
    "print(f\"Best Quantum SVM: {best_quantum[0]} - {best_quantum[1]:.4f}\")\n",
    "print(\"=\" * 70)"
   ]
  },
  {
   "cell_type": "code",
   "execution_count": 34,
   "id": "d54ebc2a",
   "metadata": {},
   "outputs": [
    {
     "data": {
      "image/png": "[encoded data removed]",
      "text/plain": [
       "<Figure size 1600x600 with 2 Axes>"
      ]
     },
     "metadata": {},
     "output_type": "display_data"
    }
   ],
   "source": [
    "# Visualize accuracy comparison\n",
    "fig, (ax1, ax2) = plt.subplots(1, 2, figsize=(16, 6))\n",
    "\n",
    "# Classical SVM comparison\n",
    "methods_cls = list(results['Classical SVM'].keys())\n",
    "accs_cls = list(results['Classical SVM'].values())\n",
    "ax1.bar(methods_cls, accs_cls, color=['skyblue', 'lightgreen', 'coral'])\n",
    "ax1.set_title('Classical SVM - Accuracy Comparison', fontsize=14, fontweight='bold')\n",
    "ax1.set_ylabel('Accuracy')\n",
    "ax1.set_ylim([0, 1])\n",
    "ax1.grid(axis='y', alpha=0.3)\n",
    "for i, v in enumerate(accs_cls):\n",
    "    ax1.text(i, v + 0.01, f'{v:.3f}', ha='center', fontweight='bold')\n",
    "\n",
    "# Quantum SVM comparison\n",
    "methods_q = list(results['Quantum SVM'].keys())\n",
    "accs_q = list(results['Quantum SVM'].values())\n",
    "ax2.bar(methods_q, accs_q, color=['purple', 'orange', 'teal'])\n",
    "ax2.set_title('Quantum SVM - Accuracy Comparison', fontsize=14, fontweight='bold')\n",
    "ax2.set_ylabel('Accuracy')\n",
    "ax2.set_ylim([0, 1])\n",
    "ax2.grid(axis='y', alpha=0.3)\n",
    "for i, v in enumerate(accs_q):\n",
    "    ax2.text(i, v + 0.01, f'{v:.3f}', ha='center', fontweight='bold')\n",
    "\n",
    "plt.tight_layout()\n",
    "plt.show()"
   ]
  },
  {
   "cell_type": "code",
   "execution_count": 35,
   "id": "7ce2fa45",
   "metadata": {},
   "outputs": [
    {
     "data": {
      "image/png": "[encoded data removed]",
      "text/plain": [
       "<Figure size 1400x600 with 1 Axes>"
      ]
     },
     "metadata": {},
     "output_type": "display_data"
    }
   ],
   "source": [
    "# Combined comparison\n",
    "fig, ax = plt.subplots(figsize=(14, 6))\n",
    "all_methods = [f\"CSVM: {m}\" for m in results['Classical SVM'].keys()] + \\\n",
    "              [f\"QSVM: {m}\" for m in results['Quantum SVM'].keys()]\n",
    "all_accs = list(results['Classical SVM'].values()) + list(results['Quantum SVM'].values())\n",
    "colors = ['skyblue', 'lightgreen', 'coral', 'purple', 'orange', 'teal']\n",
    "\n",
    "bars = ax.bar(range(len(all_methods)), all_accs, color=colors)\n",
    "ax.set_title('Complete Accuracy Comparison: Classical vs Quantum SVM', fontsize=14, fontweight='bold')\n",
    "ax.set_ylabel('Accuracy', fontsize=12)\n",
    "ax.set_xticks(range(len(all_methods)))\n",
    "ax.set_xticklabels(all_methods, rotation=45, ha='right')\n",
    "ax.set_ylim([0, 1])\n",
    "ax.grid(axis='y', alpha=0.3)\n",
    "\n",
    "for i, (method, acc) in enumerate(zip(all_methods, all_accs)):\n",
    "    ax.text(i, acc + 0.01, f'{acc:.3f}', ha='center', fontweight='bold', fontsize=10)\n",
    "\n",
    "plt.tight_layout()\n",
    "plt.show()"
   ]
  },
  {
   "cell_type": "code",
   "execution_count": 36,
   "id": "1525a892",
   "metadata": {},
   "outputs": [
    {
     "data": {
      "image/png": "[encoded data removed]",
      "text/plain": [
       "<Figure size 800x600 with 1 Axes>"
      ]
     },
     "metadata": {},
     "output_type": "display_data"
    },
    {
     "name": "stdout",
     "output_type": "stream",
     "text": [
      "\n",
      "Average Classical SVM Accuracy: 0.8442\n",
      "Average Quantum SVM Accuracy: 0.7482\n"
     ]
    }
   ],
   "source": [
    "# Average performance comparison\n",
    "avg_classical = np.mean(list(results['Classical SVM'].values()))\n",
    "avg_quantum = np.mean(list(results['Quantum SVM'].values()))\n",
    "\n",
    "fig, ax = plt.subplots(figsize=(8, 6))\n",
    "categories = ['Classical SVM', 'Quantum SVM']\n",
    "averages = [avg_classical, avg_quantum]\n",
    "colors_bar = ['steelblue', 'darkviolet']\n",
    "\n",
    "bars = ax.bar(categories, averages, color=colors_bar)\n",
    "ax.set_title('Average Performance Comparison', fontsize=14, fontweight='bold')\n",
    "ax.set_ylabel('Average Accuracy')\n",
    "ax.set_ylim([0, 1])\n",
    "ax.grid(axis='y', alpha=0.3)\n",
    "\n",
    "for i, (cat, avg) in enumerate(zip(categories, averages)):\n",
    "    ax.text(i, avg + 0.02, f'{avg:.3f}', ha='center', fontweight='bold', fontsize=12)\n",
    "    \n",
    "plt.tight_layout()\n",
    "plt.show()\n",
    "\n",
    "print(f\"\\nAverage Classical SVM Accuracy: {avg_classical:.4f}\")\n",
    "print(f\"Average Quantum SVM Accuracy: {avg_quantum:.4f}\")"
   ]
  }
 ],
 "metadata": {
  "kernelspec": {
   "display_name": "Python 3 (ipykernel)",
   "language": "python",
   "name": "python3"
  },
  "language_info": {
   "codemirror_mode": {
    "name": "ipython",
    "version": 3
   },
   "file_extension": ".py",
   "mimetype": "text/x-python",
   "name": "python",
   "nbconvert_exporter": "python",
   "pygments_lexer": "ipython3",
   "version": "3.13.7"
  }
 },
 "nbformat": 4,
 "nbformat_minor": 5
}
